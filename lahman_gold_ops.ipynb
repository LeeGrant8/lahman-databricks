{
 "cells": [
  {
   "cell_type": "code",
   "execution_count": 0,
   "metadata": {
    "application/vnd.databricks.v1+cell": {
     "cellMetadata": {
      "byteLimit": 2048000,
      "rowLimit": 10000
     },
     "inputWidgets": {},
     "nuid": "776e44a5-5f80-40cc-854f-a13a50b0e3a5",
     "showTitle": false,
     "tableResultSettingsMap": {},
     "title": ""
    }
   },
   "outputs": [],
   "source": [
    "# Use Lahman database\n",
    "spark.sql(\"USE lahman\")\n",
    "\n",
    "print(\"Current DB:\", spark.catalog.currentDatabase())"
   ]
  },
  {
   "cell_type": "code",
   "execution_count": 0,
   "metadata": {
    "application/vnd.databricks.v1+cell": {
     "cellMetadata": {
      "byteLimit": 2048000,
      "rowLimit": 10000
     },
     "inputWidgets": {},
     "nuid": "7560d8a3-bb5f-48c8-8868-ea13fa970da2",
     "showTitle": false,
     "tableResultSettingsMap": {},
     "title": ""
    }
   },
   "outputs": [],
   "source": [
    "from pyspark.sql import functions as F\n",
    "\n",
    "# Read source\n",
    "bat = spark.table(\"lahman.batting\")\n",
    "\n",
    "# Aggregate per team & season\n",
    "team_year = (\n",
    "    bat.groupBy(\"teamID\", \"yearID\")\n",
    "       .agg(\n",
    "           F.sum(F.col(\"H\")).alias(\"H\"),\n",
    "           F.sum(F.col(\"BB\")).alias(\"BB\"),\n",
    "           F.sum(F.col(\"HBP\")).alias(\"HBP\"),\n",
    "           F.sum(F.col(\"AB\")).alias(\"AB\"),\n",
    "           F.sum(F.col(\"2B\")).alias(\"Doubles\"),\n",
    "           F.sum(F.col(\"3B\")).alias(\"Triples\"),\n",
    "           F.sum(F.col(\"HR\")).alias(\"HR\"),\n",
    "           F.sum(F.col(\"SF\")).alias(\"SF\")\n",
    "       )\n",
    "       .fillna(0, subset=[\"H\",\"BB\",\"HBP\",\"AB\",\"Doubles\",\"Triples\",\"HR\",\"SF\"])\n",
    "       .withColumn(\"Singles\", F.col(\"H\") - F.col(\"Doubles\") - F.col(\"Triples\") - F.col(\"HR\"))\n",
    "       .withColumn(\"TB\",      F.col(\"Singles\") + 2*F.col(\"Doubles\") + 3*F.col(\"Triples\") + 4*F.col(\"HR\"))\n",
    "       .withColumn(\"OBP_den\", F.col(\"AB\") + F.col(\"BB\") + F.col(\"HBP\") + F.col(\"SF\"))\n",
    "       .withColumn(\"SLG_den\", F.col(\"AB\"))\n",
    "       .withColumn(\"OBP\",\n",
    "           F.when(F.col(\"OBP_den\") != 0,\n",
    "                  (F.col(\"H\") + F.col(\"BB\") + F.col(\"HBP\")) / F.col(\"OBP_den\"))\n",
    "            .otherwise(F.lit(None))\n",
    "       )\n",
    "       .withColumn(\"SLG\",\n",
    "           F.when(F.col(\"SLG_den\") != 0,\n",
    "                  F.col(\"TB\") / F.col(\"SLG_den\"))\n",
    "            .otherwise(F.lit(None))\n",
    "       )\n",
    "       .withColumn(\"OPS\", F.col(\"OBP\") + F.col(\"SLG\"))\n",
    "       .select(\"yearID\",\"teamID\",\"AB\",\"H\",\"BB\",\"HBP\",\"SF\",\"Doubles\",\"Triples\",\"HR\",\"Singles\",\"TB\",\"OBP\",\"SLG\",\"OPS\")\n",
    ")\n",
    "\n",
    "# Write as Delta and register the table\n",
    "delta_path = \"/FileStore/lahman/delta/team_year_ops\"\n",
    "\n",
    "(team_year.write\n",
    "    .format(\"delta\")\n",
    "    .mode(\"overwrite\")\n",
    "    .option(\"overwriteSchema\", \"true\")\n",
    "    .save(delta_path)\n",
    ")\n",
    "\n",
    "spark.sql(f\"\"\"\n",
    "  CREATE TABLE IF NOT EXISTS lahman.team_year_ops\n",
    "  USING DELTA\n",
    "  LOCATION '{delta_path}'\n",
    "\"\"\")\n",
    "\n",
    "print(\"Wrote lahman.team_year_ops\")\n",
    "display(spark.table(\"lahman.team_year_ops\").orderBy(F.desc(\"OPS\")).limit(20))"
   ]
  },
  {
   "cell_type": "code",
   "execution_count": 0,
   "metadata": {
    "application/vnd.databricks.v1+cell": {
     "cellMetadata": {
      "byteLimit": 2048000,
      "rowLimit": 10000
     },
     "inputWidgets": {},
     "nuid": "ea608207-146b-48f8-b629-1ca70a475c5c",
     "showTitle": false,
     "tableResultSettingsMap": {},
     "title": ""
    }
   },
   "outputs": [],
   "source": [
    "from pyspark.sql import functions as F\n",
    "\n",
    "spark.sql(\"USE lahman\")\n",
    "\n",
    "# Join team names to the gold table on (teamID, yearID)\n",
    "ops = spark.table(\"lahman.team_year_ops\").alias(\"o\")\n",
    "teams = spark.table(\"lahman.teams\").select(\"yearID\",\"teamID\",\"name\").alias(\"t\")\n",
    "\n",
    "ops_named = (\n",
    "    ops.join(teams, [\"yearID\",\"teamID\"], \"left\")\n",
    "       .withColumnRenamed(\"name\",\"teamName\")\n",
    "       .select(\"yearID\",\"teamID\",\"teamName\",\"AB\",\"H\",\"BB\",\"HBP\",\"SF\",\n",
    "               \"Doubles\",\"Triples\",\"HR\",\"Singles\",\"TB\",\"OBP\",\"SLG\",\"OPS\")\n",
    ")\n",
    "\n",
    "# Save a friendly view for quick queries\n",
    "ops_named.createOrReplaceTempView(\"vw_team_year_ops_named\")\n",
    "\n",
    "print(\"Created temp view: vw_team_year_ops_named\")\n",
    "display(spark.sql(\"\"\"\n",
    "  SELECT yearID, teamID, teamName, OPS, OBP, SLG, HR, AB\n",
    "  FROM vw_team_year_ops_named\n",
    "  ORDER BY OPS DESC\n",
    "  LIMIT 20\n",
    "\"\"\"))"
   ]
  },
  {
   "cell_type": "code",
   "execution_count": 0,
   "metadata": {
    "application/vnd.databricks.v1+cell": {
     "cellMetadata": {
      "byteLimit": 2048000,
      "implicitDf": true,
      "rowLimit": 10000
     },
     "inputWidgets": {},
     "nuid": "6afbfca2-b7a6-43d0-8c8c-dfc5ef74229f",
     "showTitle": false,
     "tableResultSettingsMap": {},
     "title": ""
    }
   },
   "outputs": [],
   "source": [
    "%sql\n",
    "USE lahman;\n",
    "\n",
    "-- Example: 1998 team OPS leaderboard\n",
    "SELECT yearID, teamID, teamName, OPS, OBP, SLG, HR, AB\n",
    "FROM vw_team_year_ops_named\n",
    "WHERE yearID = 2024\n",
    "ORDER BY OPS DESC;"
   ]
  },
  {
   "cell_type": "code",
   "execution_count": 0,
   "metadata": {
    "application/vnd.databricks.v1+cell": {
     "cellMetadata": {},
     "collapsed": true,
     "inputWidgets": {},
     "nuid": "b5019b64-37ab-4ebb-9695-7eac6f9bebb0",
     "showTitle": false,
     "tableResultSettingsMap": {},
     "title": ""
    }
   },
   "outputs": [],
   "source": []
  }
 ],
 "metadata": {
  "application/vnd.databricks.v1+notebook": {
   "computePreferences": null,
   "dashboards": [],
   "environmentMetadata": {
    "base_environment": "",
    "environment_version": "3"
   },
   "inputWidgetPreferences": null,
   "language": "python",
   "notebookMetadata": {
    "mostRecentlyExecutedCommandWithImplicitDF": {
     "commandId": 7899138254998127,
     "dataframes": [
      "_sqldf"
     ]
    },
    "pythonIndentUnit": 4
   },
   "notebookName": "lahman_gold_ops",
   "widgets": {}
  },
  "language_info": {
   "name": "python"
  }
 },
 "nbformat": 4,
 "nbformat_minor": 0
}
